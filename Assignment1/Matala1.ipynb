{
 "cells": [
  {
   "cell_type": "markdown",
   "id": "7729c04d-b4fc-4e48-ac5e-1005cf687042",
   "metadata": {},
   "source": [
    "> #### Name : Niv Levi\n",
    "> #### ID : 314628165\n",
    "---"
   ]
  },
  {
   "cell_type": "markdown",
   "id": "de7d76f8-405d-4bf5-a168-37075e5ba7fc",
   "metadata": {},
   "source": [
    "- #### Question 1 :"
   ]
  },
  {
   "cell_type": "code",
   "execution_count": 3,
   "id": "186abfba-fa04-496b-a9d4-3ae2ca81c84b",
   "metadata": {},
   "outputs": [],
   "source": [
    "def my_func(x1,x2,x3) :\n",
    "    arguments = [x1,x2,x3]\n",
    "    for x in arguments :\n",
    "        if not isinstance(x, float):\n",
    "            print(\"Error: parameters should be float\")\n",
    "            return None\n",
    "    if (x1+x2+x3) == 0:\n",
    "        print(\"Not a number - denominator equals zero\")\n",
    "        return None\n",
    "    formula = ((x1+x2+x3)*(x2+x3)*x3)/(x1+x2+x3)\n",
    "    return formula"
   ]
  },
  {
   "cell_type": "markdown",
   "id": "eb60a503-2ac3-4075-a29e-f14f08d7e13b",
   "metadata": {},
   "source": [
    "- #### Question 2A :"
   ]
  },
  {
   "cell_type": "code",
   "execution_count": 5,
   "id": "418a729f-886f-4d40-bdb0-fd5080d1e974",
   "metadata": {},
   "outputs": [],
   "source": [
    "def revword(x):\n",
    "    if not isinstance(x, str):\n",
    "        raise TypeError(\"Error: parameter should be a string\")\n",
    "    return x[::-1].lower()"
   ]
  },
  {
   "cell_type": "markdown",
   "id": "703f32a6-6290-4146-bec1-0c7e529520ae",
   "metadata": {},
   "source": [
    "- #### Question 2B :"
   ]
  },
  {
   "cell_type": "code",
   "execution_count": 7,
   "id": "e2434582-7535-45fb-9432-78ca55db56e6",
   "metadata": {},
   "outputs": [],
   "source": [
    "def countword(file_name):\n",
    "    with open(file_name, \"r\") as hand:\n",
    "        myList = []\n",
    "        for line in hand:\n",
    "            line = line.rstrip()\n",
    "            words = line.split()\n",
    "            for i in words:\n",
    "                myList.append(i)\n",
    "\n",
    "        word = myList[0] #The first word\n",
    "        counter = 1 #Because we always have the first word\n",
    "        for wordToCheck in myList[1:]: #The word to compare is include on the list\n",
    "            if word == revword(wordToCheck):\n",
    "                counter += 1\n",
    "        return counter\n",
    "\n",
    "#countword(\"text.txt\")"
   ]
  }
 ],
 "metadata": {
  "kernelspec": {
   "display_name": "Python 3 (ipykernel)",
   "language": "python",
   "name": "python3"
  },
  "language_info": {
   "codemirror_mode": {
    "name": "ipython",
    "version": 3
   },
   "file_extension": ".py",
   "mimetype": "text/x-python",
   "name": "python",
   "nbconvert_exporter": "python",
   "pygments_lexer": "ipython3",
   "version": "3.9.12"
  }
 },
 "nbformat": 4,
 "nbformat_minor": 5
}
