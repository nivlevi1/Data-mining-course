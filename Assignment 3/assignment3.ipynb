{
 "cells": [
  {
   "cell_type": "code",
   "execution_count": 1,
   "id": "30a87ef3-7a89-4ca1-accc-8cb899eac9d1",
   "metadata": {},
   "outputs": [],
   "source": [
    "with open(r\"C:\\Users\\Niv-Levi\\Desktop\\לימודים\\שנה ג'\\כריית נתונים בפייתון\\Matala3\\dests.txt\", \"r\") as hand:\n",
    "    cities = []\n",
    "    for line in hand:\n",
    "        line = line.rstrip()\n",
    "        words = line.split()\n",
    "        for i in words:\n",
    "            cities.append(i)"
   ]
  },
  {
   "cell_type": "code",
   "execution_count": 2,
   "id": "51e6fa21-a37a-4be5-8f91-a21fc088a851",
   "metadata": {},
   "outputs": [],
   "source": [
    "import requests\n",
    "\n",
    "#####Get Distance_km and Duration#############\n",
    "\n",
    "# Set up the API endpoint and parameters\n",
    "distancematrix_url = 'https://maps.googleapis.com/maps/api/distancematrix/json'\n",
    "\n",
    "data_list = []\n",
    "params = {\n",
    "        'origins': \"Tel Aviv\",\n",
    "        'destinations': \"|\".join(cities), #Its better to request the api 1 time * 5 cities instead 5 time * 1 city.\n",
    "        'key': \"XXXXXXXXXXXXXXXXXX\"}\n",
    "\n",
    "\n",
    "# Send HTTP request \n",
    "try:\n",
    "    response = requests.get(distancematrix_url, params=params)\n",
    "    if response.status_code != 200:\n",
    "        print(\"HTTP error\", response.status_code)\n",
    "    else : \n",
    "        try : \n",
    "            data = response.json()\n",
    "        except:\n",
    "            print(\"Response not in valid JSON format\")\n",
    "except:\n",
    "    print(\"Something went wrong with rquests.get\")\n",
    "\n",
    "for city in range(len(cities)) :      \n",
    "        \n",
    "    # Retrive the necessary data: \n",
    "    my_dict = {\n",
    "    'Target': data['destination_addresses'][city],\n",
    "    'Distance_km': data['rows'][0]['elements'][city]['distance']['text'], \n",
    "    'Duration': data['rows'][0]['elements'][city]['duration']['value'] / 60 #If you want to extract the duration by minutes.\n",
    "    }\n",
    "    data_list.append(my_dict)"
   ]
  },
  {
   "cell_type": "code",
   "execution_count": 3,
   "id": "4db8b048-ae42-49ac-bbfb-14cb48869aec",
   "metadata": {},
   "outputs": [
    {
     "data": {
      "text/plain": [
       "{'destination_addresses': ['İstanbul, Türkiye',\n",
       "  'Amsterdam, Netherlands',\n",
       "  'Valletta, Malta',\n",
       "  'Basel, Switzerland',\n",
       "  'Doha, Qatar'],\n",
       " 'origin_addresses': ['Tel Aviv-Yafo, Israel'],\n",
       " 'rows': [{'elements': [{'distance': {'text': '1,815 km', 'value': 1815227},\n",
       "     'duration': {'text': '21 hours 3 mins', 'value': 75772},\n",
       "     'status': 'OK'},\n",
       "    {'distance': {'text': '4,533 km', 'value': 4532541},\n",
       "     'duration': {'text': '2 days 0 hours', 'value': 173008},\n",
       "     'status': 'OK'},\n",
       "    {'distance': {'text': '3,793 km', 'value': 3792883},\n",
       "     'duration': {'text': '2 days 3 hours', 'value': 183056},\n",
       "     'status': 'OK'},\n",
       "    {'distance': {'text': '4,093 km', 'value': 4092805},\n",
       "     'duration': {'text': '1 day 20 hours', 'value': 158547},\n",
       "     'status': 'OK'},\n",
       "    {'distance': {'text': '2,164 km', 'value': 2164477},\n",
       "     'duration': {'text': '22 hours 39 mins', 'value': 81527},\n",
       "     'status': 'OK'}]}],\n",
       " 'status': 'OK'}"
      ]
     },
     "execution_count": 3,
     "metadata": {},
     "output_type": "execute_result"
    }
   ],
   "source": [
    "data"
   ]
  },
  {
   "cell_type": "code",
   "execution_count": 4,
   "id": "db3adb1b-04d0-4673-a17b-3f96799c4062",
   "metadata": {},
   "outputs": [
    {
     "data": {
      "text/plain": [
       "[{'Target': 'İstanbul, Türkiye',\n",
       "  'Distance_km': '1,815 km',\n",
       "  'Duration': 1262.8666666666666},\n",
       " {'Target': 'Amsterdam, Netherlands',\n",
       "  'Distance_km': '4,533 km',\n",
       "  'Duration': 2883.4666666666667},\n",
       " {'Target': 'Valletta, Malta',\n",
       "  'Distance_km': '3,793 km',\n",
       "  'Duration': 3050.9333333333334},\n",
       " {'Target': 'Basel, Switzerland',\n",
       "  'Distance_km': '4,093 km',\n",
       "  'Duration': 2642.45},\n",
       " {'Target': 'Doha, Qatar',\n",
       "  'Distance_km': '2,164 km',\n",
       "  'Duration': 1358.7833333333333}]"
      ]
     },
     "execution_count": 4,
     "metadata": {},
     "output_type": "execute_result"
    }
   ],
   "source": [
    "data_list"
   ]
  },
  {
   "cell_type": "code",
   "execution_count": 5,
   "id": "bc5926a0",
   "metadata": {},
   "outputs": [],
   "source": [
    "######### Get Logitude and Latitude#############\n",
    "### Geocode doesn't return joined request sorted a-z so you have to request for each city.\n",
    "\n",
    "# Set up the API \n",
    "geocode_url = 'https://maps.googleapis.com/maps/api/geocode/json'\n",
    "\n",
    "for index in range(len(cities)):\n",
    "    params = {\n",
    "        'address': cities[index],\n",
    "        'key': \"XXXXXXXXXXXXXXX\"\n",
    "    }\n",
    "\n",
    "    try:\n",
    "        response = requests.get(geocode_url, params=params)\n",
    "        if response.status_code != 200:\n",
    "            print(\"HTTP error\", response.status_code)\n",
    "        else : \n",
    "            try : \n",
    "                data2 = response.json()\n",
    "            except:\n",
    "                print(\"Response not in valid JSON format\")\n",
    "                continue\n",
    "    except:\n",
    "        print(\"Something went wrong with rquests.get\")\n",
    "        continue\n",
    "        \n",
    "    #for unrecognize cities\n",
    "    if data2['status'] != 'OK':\n",
    "        continue\n",
    "    \n",
    "    # Retrive the necessary data to the exiciting dicts: \n",
    "    data_list[index][\"Latutude\"] = data2['results'][0]['geometry']['location']['lat']\n",
    "    data_list[index][\"Longitude\"] = data2['results'][0]['geometry']['location']['lng']"
   ]
  },
  {
   "cell_type": "code",
   "execution_count": 12,
   "id": "293bd047-40fe-4b16-8be7-8df7c15ac4ae",
   "metadata": {},
   "outputs": [
    {
     "data": {
      "text/plain": [
       "[{'Target': 'İstanbul, Türkiye',\n",
       "  'Distance_km': '1,815 km',\n",
       "  'Duration': 1262.8666666666666,\n",
       "  'Latutude': 41.0082376,\n",
       "  'Longitude': 28.9783589},\n",
       " {'Target': 'Amsterdam, Netherlands',\n",
       "  'Distance_km': '4,533 km',\n",
       "  'Duration': 2883.4666666666667,\n",
       "  'Latutude': 52.3675734,\n",
       "  'Longitude': 4.9041389},\n",
       " {'Target': 'Valletta, Malta',\n",
       "  'Distance_km': '3,793 km',\n",
       "  'Duration': 3050.9333333333334,\n",
       "  'Latutude': 35.8992375,\n",
       "  'Longitude': 14.5140996},\n",
       " {'Target': 'Basel, Switzerland',\n",
       "  'Distance_km': '4,093 km',\n",
       "  'Duration': 2642.45,\n",
       "  'Latutude': 47.5595986,\n",
       "  'Longitude': 7.5885761},\n",
       " {'Target': 'Doha, Qatar',\n",
       "  'Distance_km': '2,164 km',\n",
       "  'Duration': 1358.7833333333333,\n",
       "  'Latutude': 25.2854473,\n",
       "  'Longitude': 51.53103979999999}]"
      ]
     },
     "execution_count": 12,
     "metadata": {},
     "output_type": "execute_result"
    }
   ],
   "source": [
    "data_list"
   ]
  },
  {
   "cell_type": "code",
   "execution_count": 13,
   "id": "d306f872-47f6-4514-bd05-3c66b455ebc7",
   "metadata": {},
   "outputs": [],
   "source": [
    "import pandas as pd\n",
    "df = pd.DataFrame(data_list)"
   ]
  },
  {
   "cell_type": "code",
   "execution_count": 14,
   "id": "96c24b7b-8a2c-44ba-8021-af56d9374971",
   "metadata": {},
   "outputs": [
    {
     "data": {
      "text/html": [
       "<div>\n",
       "<style scoped>\n",
       "    .dataframe tbody tr th:only-of-type {\n",
       "        vertical-align: middle;\n",
       "    }\n",
       "\n",
       "    .dataframe tbody tr th {\n",
       "        vertical-align: top;\n",
       "    }\n",
       "\n",
       "    .dataframe thead th {\n",
       "        text-align: right;\n",
       "    }\n",
       "</style>\n",
       "<table border=\"1\" class=\"dataframe\">\n",
       "  <thead>\n",
       "    <tr style=\"text-align: right;\">\n",
       "      <th></th>\n",
       "      <th>Target</th>\n",
       "      <th>Distance_km</th>\n",
       "      <th>Duration</th>\n",
       "      <th>Latutude</th>\n",
       "      <th>Longitude</th>\n",
       "    </tr>\n",
       "  </thead>\n",
       "  <tbody>\n",
       "    <tr>\n",
       "      <th>0</th>\n",
       "      <td>İstanbul, Türkiye</td>\n",
       "      <td>1,815 km</td>\n",
       "      <td>21:03</td>\n",
       "      <td>41.008238</td>\n",
       "      <td>28.978359</td>\n",
       "    </tr>\n",
       "    <tr>\n",
       "      <th>1</th>\n",
       "      <td>Amsterdam, Netherlands</td>\n",
       "      <td>4,533 km</td>\n",
       "      <td>48:03</td>\n",
       "      <td>52.367573</td>\n",
       "      <td>4.904139</td>\n",
       "    </tr>\n",
       "    <tr>\n",
       "      <th>2</th>\n",
       "      <td>Valletta, Malta</td>\n",
       "      <td>3,793 km</td>\n",
       "      <td>50:51</td>\n",
       "      <td>35.899237</td>\n",
       "      <td>14.514100</td>\n",
       "    </tr>\n",
       "    <tr>\n",
       "      <th>3</th>\n",
       "      <td>Basel, Switzerland</td>\n",
       "      <td>4,093 km</td>\n",
       "      <td>44:02</td>\n",
       "      <td>47.559599</td>\n",
       "      <td>7.588576</td>\n",
       "    </tr>\n",
       "    <tr>\n",
       "      <th>4</th>\n",
       "      <td>Doha, Qatar</td>\n",
       "      <td>2,164 km</td>\n",
       "      <td>22:39</td>\n",
       "      <td>25.285447</td>\n",
       "      <td>51.531040</td>\n",
       "    </tr>\n",
       "  </tbody>\n",
       "</table>\n",
       "</div>"
      ],
      "text/plain": [
       "                   Target Distance_km Duration   Latutude  Longitude\n",
       "0       İstanbul, Türkiye    1,815 km    21:03  41.008238  28.978359\n",
       "1  Amsterdam, Netherlands    4,533 km    48:03  52.367573   4.904139\n",
       "2         Valletta, Malta    3,793 km    50:51  35.899237  14.514100\n",
       "3      Basel, Switzerland    4,093 km    44:02  47.559599   7.588576\n",
       "4             Doha, Qatar    2,164 km    22:39  25.285447  51.531040"
      ]
     },
     "execution_count": 14,
     "metadata": {},
     "output_type": "execute_result"
    }
   ],
   "source": [
    "def calculate_time(total_minutes):\n",
    "    hours = round(total_minutes // 60)\n",
    "    minutes = round(total_minutes % 60)\n",
    "    time_string = \"{:02d}:{:02d}\".format(hours, minutes)\n",
    "    return time_string\n",
    "df[\"Duration\"] = df[\"Duration\"].apply(calculate_time)\n",
    "df"
   ]
  },
  {
   "cell_type": "code",
   "execution_count": 15,
   "id": "19d064d9-6f86-4ba9-b3f7-2f23ab376ecd",
   "metadata": {},
   "outputs": [],
   "source": [
    "import re\n",
    "df['Distance_km'] = df['Distance_km'].str.extract(r'(\\d+,\\d+)')\n",
    "df['Distance_km'] = df['Distance_km'].str.replace(\",\",\"\").astype(int)"
   ]
  },
  {
   "cell_type": "code",
   "execution_count": 16,
   "id": "42ef46ca-d5bb-4c9f-b884-38b3efd6b435",
   "metadata": {},
   "outputs": [
    {
     "data": {
      "text/html": [
       "<div>\n",
       "<style scoped>\n",
       "    .dataframe tbody tr th:only-of-type {\n",
       "        vertical-align: middle;\n",
       "    }\n",
       "\n",
       "    .dataframe tbody tr th {\n",
       "        vertical-align: top;\n",
       "    }\n",
       "\n",
       "    .dataframe thead th {\n",
       "        text-align: right;\n",
       "    }\n",
       "</style>\n",
       "<table border=\"1\" class=\"dataframe\">\n",
       "  <thead>\n",
       "    <tr style=\"text-align: right;\">\n",
       "      <th></th>\n",
       "      <th>Target</th>\n",
       "      <th>Distance_km</th>\n",
       "      <th>Duration</th>\n",
       "      <th>Latutude</th>\n",
       "      <th>Longitude</th>\n",
       "    </tr>\n",
       "  </thead>\n",
       "  <tbody>\n",
       "    <tr>\n",
       "      <th>1</th>\n",
       "      <td>Amsterdam, Netherlands</td>\n",
       "      <td>4533</td>\n",
       "      <td>48:03</td>\n",
       "      <td>52.367573</td>\n",
       "      <td>4.904139</td>\n",
       "    </tr>\n",
       "    <tr>\n",
       "      <th>3</th>\n",
       "      <td>Basel, Switzerland</td>\n",
       "      <td>4093</td>\n",
       "      <td>44:02</td>\n",
       "      <td>47.559599</td>\n",
       "      <td>7.588576</td>\n",
       "    </tr>\n",
       "    <tr>\n",
       "      <th>2</th>\n",
       "      <td>Valletta, Malta</td>\n",
       "      <td>3793</td>\n",
       "      <td>50:51</td>\n",
       "      <td>35.899237</td>\n",
       "      <td>14.514100</td>\n",
       "    </tr>\n",
       "  </tbody>\n",
       "</table>\n",
       "</div>"
      ],
      "text/plain": [
       "                   Target  Distance_km Duration   Latutude  Longitude\n",
       "1  Amsterdam, Netherlands         4533    48:03  52.367573   4.904139\n",
       "3      Basel, Switzerland         4093    44:02  47.559599   7.588576\n",
       "2         Valletta, Malta         3793    50:51  35.899237  14.514100"
      ]
     },
     "execution_count": 16,
     "metadata": {},
     "output_type": "execute_result"
    }
   ],
   "source": [
    "df.sort_values('Distance_km', ascending=False).head(3)"
   ]
  }
 ],
 "metadata": {
  "kernelspec": {
   "display_name": "Python 3 (ipykernel)",
   "language": "python",
   "name": "python3"
  },
  "language_info": {
   "codemirror_mode": {
    "name": "ipython",
    "version": 3
   },
   "file_extension": ".py",
   "mimetype": "text/x-python",
   "name": "python",
   "nbconvert_exporter": "python",
   "pygments_lexer": "ipython3",
   "version": "3.10.9"
  }
 },
 "nbformat": 4,
 "nbformat_minor": 5
}
